{
 "cells": [
  {
   "cell_type": "markdown",
   "metadata": {},
   "source": [
    "# Import Library"
   ]
  },
  {
   "cell_type": "code",
   "execution_count": 1,
   "metadata": {},
   "outputs": [],
   "source": [
    "# Data Loading\n",
    "import xarray as xr  \n",
    "\n",
    "# Data Processing\n",
    "import numpy as np\n",
    "\n",
    "# Visualization\n",
    "import matplotlib.pyplot as plt\n",
    "from mpl_toolkits.basemap import Basemap"
   ]
  },
  {
   "cell_type": "markdown",
   "metadata": {},
   "source": [
    "# Data Load"
   ]
  },
  {
   "cell_type": "code",
   "execution_count": 2,
   "metadata": {},
   "outputs": [
    {
     "name": "stdout",
     "output_type": "stream",
     "text": [
      "<xarray.Dataset>\n",
      "Dimensions:             (lat: 72, lon: 144, nbnds: 2, time: 12)\n",
      "Coordinates:\n",
      "  * lat                 (lat) float32 88.75 86.25 83.75 ... -83.75 -86.25 -88.75\n",
      "  * lon                 (lon) float32 1.25 3.75 6.25 ... 353.75 356.25 358.75\n",
      "  * time                (time) object 0001-01-01 00:00:00 ... 0001-12-01 00:00:00\n",
      "Dimensions without coordinates: nbnds\n",
      "Data variables:\n",
      "    climatology_bounds  (time, nbnds) datetime64[ns] ...\n",
      "    precip              (time, lat, lon) float32 ...\n",
      "    valid_yr_count      (time, lat, lon) float32 ...\n",
      "Attributes:\n",
      "    Conventions:                    COARDS\n",
      "    title:                          CPC Merged Analysis of Precipitation (exc...\n",
      "    platform:                       Analyses\n",
      "    source:                         ftp ftp.cpc.ncep.noaa.gov precip/cmap/mon...\n",
      "    dataset_title:                  CPC Merged Analysis of Precipitation\n",
      "    documentation:                  https://www.esrl.noaa.gov/psd/data/gridde...\n",
      "    date_modified:                  26 Feb 2019\n",
      "    References:                     https://www.psl.noaa.gov/data/gridded/dat...\n",
      "    version:                        V2005\n",
      "    history:                        Created 2020/05/11 by doMonthLTM\n",
      "    data_modified:                  2020-05-11\n",
      "    not_missing_threshold_percent:  minimum 3% values input to have non-missi...\n"
     ]
    },
    {
     "name": "stderr",
     "output_type": "stream",
     "text": [
      "/usr/local/python/2.7/envs/p3.6_cpu/lib/python3.6/site-packages/xarray/coding/times.py:459: SerializationWarning: Unable to decode time axis into full numpy.datetime64 objects, continuing using cftime.datetime objects instead, reason: dates out of range\n",
      "  dtype = _decode_cf_datetime_dtype(data, units, calendar, self.use_cftime)\n",
      "/usr/local/python/2.7/envs/p3.6_cpu/lib/python3.6/site-packages/numpy/core/numeric.py:538: SerializationWarning: Unable to decode time axis into full numpy.datetime64 objects, continuing using cftime.datetime objects instead, reason: dates out of range\n",
      "  return array(a, dtype, copy=False, order=order)\n"
     ]
    }
   ],
   "source": [
    "path = './precip.mon.ltm.nc'\n",
    "\n",
    "ncfile = xr.open_dataset(path)\n",
    "print(ncfile) # print dataset infomation "
   ]
  },
  {
   "cell_type": "markdown",
   "metadata": {},
   "source": [
    "# Data Processing"
   ]
  },
  {
   "cell_type": "code",
   "execution_count": 3,
   "metadata": {},
   "outputs": [
    {
     "name": "stdout",
     "output_type": "stream",
     "text": [
      "(12, 72, 144)\n"
     ]
    }
   ],
   "source": [
    "# select variable\n",
    "precip = ncfile.data_vars['precip']\n",
    "print(precip.shape)  # [time, lat, lon]"
   ]
  },
  {
   "cell_type": "code",
   "execution_count": 4,
   "metadata": {},
   "outputs": [
    {
     "data": {
      "text/plain": [
       "<xarray.DataArray 'precip' ()>\n",
       "array(5905)"
      ]
     },
     "execution_count": 4,
     "metadata": {},
     "output_type": "execute_result"
    }
   ],
   "source": [
    "# check null values\n",
    "np.sum(np.isnan(precip))"
   ]
  },
  {
   "cell_type": "code",
   "execution_count": 5,
   "metadata": {},
   "outputs": [
    {
     "name": "stdout",
     "output_type": "stream",
     "text": [
      "(12, 72)\n"
     ]
    },
    {
     "name": "stderr",
     "output_type": "stream",
     "text": [
      "/usr/local/python/2.7/envs/p3.6_cpu/lib/python3.6/site-packages/xarray/core/nanops.py:140: RuntimeWarning: Mean of empty slice\n",
      "  return np.nanmean(a, axis=axis, dtype=dtype)\n"
     ]
    }
   ],
   "source": [
    "# global zonal average\n",
    "precip_global = precip.mean(dim='lon')\n",
    "print(precip_global.shape)"
   ]
  },
  {
   "cell_type": "code",
   "execution_count": 6,
   "metadata": {},
   "outputs": [
    {
     "name": "stdout",
     "output_type": "stream",
     "text": [
      "(72, 12)\n"
     ]
    }
   ],
   "source": [
    "# switch y-t axis\n",
    "precip_global = precip_global.transpose('lat','time')\n",
    "print(precip_global.shape)"
   ]
  },
  {
   "cell_type": "markdown",
   "metadata": {},
   "source": [
    "# Visualizatoin"
   ]
  },
  {
   "cell_type": "code",
   "execution_count": 9,
   "metadata": {},
   "outputs": [
    {
     "data": {
      "image/png": "[encoded data removed]",
      "text/plain": [
       "<Figure size 576x360 with 2 Axes>"
      ]
     },
     "metadata": {
      "needs_background": "light"
     },
     "output_type": "display_data"
    }
   ],
   "source": [
    "# # of figure and size\n",
    "fig, ax = plt.subplots(nrows=1, ncols=1, figsize=(8,5))\n",
    "\n",
    "# There are many other techniques to set xaxis, but here let's take a simple way\n",
    "month = ['Jan', 'Feb', 'Mar', 'Apr', 'May', 'Jun', 'Jul', 'Aug', 'Sep', 'Oct', 'Nov', 'Dec']\n",
    "ytplot = ax.contourf(month, precip_global.lat, precip_global,\n",
    "            cmap=plt.cm.BrBG,\n",
    "           )\n",
    "\n",
    "cbar = plt.colorbar(ytplot) # colorbar\n",
    "plt.show()"
   ]
  },
  {
   "cell_type": "code",
   "execution_count": null,
   "metadata": {},
   "outputs": [],
   "source": []
  }
 ],
 "metadata": {
  "kernelspec": {
   "display_name": "Python [conda env:p3.6_cpu] *",
   "language": "python",
   "name": "conda-env-p3.6_cpu-py"
  },
  "language_info": {
   "codemirror_mode": {
    "name": "ipython",
    "version": 3
   },
   "file_extension": ".py",
   "mimetype": "text/x-python",
   "name": "python",
   "nbconvert_exporter": "python",
   "pygments_lexer": "ipython3",
   "version": "3.6.8"
  }
 },
 "nbformat": 4,
 "nbformat_minor": 2
}
