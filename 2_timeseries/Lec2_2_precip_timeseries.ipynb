{
 "cells": [
  {
   "cell_type": "markdown",
   "metadata": {},
   "source": [
    "# Import Library"
   ]
  },
  {
   "cell_type": "code",
   "execution_count": 1,
   "metadata": {},
   "outputs": [],
   "source": [
    "# Data Loading\n",
    "import xarray as xr  \n",
    "\n",
    "# Data Processing\n",
    "import numpy as np\n",
    "\n",
    "# Visualization\n",
    "import matplotlib.pyplot as plt"
   ]
  },
  {
   "cell_type": "markdown",
   "metadata": {},
   "source": [
    "# Data Load"
   ]
  },
  {
   "cell_type": "code",
   "execution_count": 2,
   "metadata": {},
   "outputs": [
    {
     "name": "stdout",
     "output_type": "stream",
     "text": [
      "<xarray.Dataset>\n",
      "Dimensions:             (lat: 72, lon: 144, nbnds: 2, time: 12)\n",
      "Coordinates:\n",
      "  * lat                 (lat) float32 88.75 86.25 83.75 ... -83.75 -86.25 -88.75\n",
      "  * lon                 (lon) float32 1.25 3.75 6.25 ... 353.75 356.25 358.75\n",
      "  * time                (time) object 0001-01-01 00:00:00 ... 0001-12-01 00:00:00\n",
      "Dimensions without coordinates: nbnds\n",
      "Data variables:\n",
      "    climatology_bounds  (time, nbnds) datetime64[ns] ...\n",
      "    precip              (time, lat, lon) float32 ...\n",
      "    valid_yr_count      (time, lat, lon) float32 ...\n",
      "Attributes:\n",
      "    Conventions:                    COARDS\n",
      "    title:                          CPC Merged Analysis of Precipitation (exc...\n",
      "    platform:                       Analyses\n",
      "    source:                         ftp ftp.cpc.ncep.noaa.gov precip/cmap/mon...\n",
      "    dataset_title:                  CPC Merged Analysis of Precipitation\n",
      "    documentation:                  https://www.esrl.noaa.gov/psd/data/gridde...\n",
      "    date_modified:                  26 Feb 2019\n",
      "    References:                     https://www.psl.noaa.gov/data/gridded/dat...\n",
      "    version:                        V2005\n",
      "    history:                        Created 2020/05/11 by doMonthLTM\n",
      "    data_modified:                  2020-05-11\n",
      "    not_missing_threshold_percent:  minimum 3% values input to have non-missi...\n"
     ]
    },
    {
     "name": "stderr",
     "output_type": "stream",
     "text": [
      "/usr/local/python/2.7/envs/p3.6_cpu/lib/python3.6/site-packages/xarray/coding/times.py:459: SerializationWarning: Unable to decode time axis into full numpy.datetime64 objects, continuing using cftime.datetime objects instead, reason: dates out of range\n",
      "  dtype = _decode_cf_datetime_dtype(data, units, calendar, self.use_cftime)\n",
      "/usr/local/python/2.7/envs/p3.6_cpu/lib/python3.6/site-packages/numpy/core/numeric.py:538: SerializationWarning: Unable to decode time axis into full numpy.datetime64 objects, continuing using cftime.datetime objects instead, reason: dates out of range\n",
      "  return array(a, dtype, copy=False, order=order)\n"
     ]
    }
   ],
   "source": [
    "path = './precip.mon.ltm.nc'\n",
    "\n",
    "ncfile = xr.open_dataset(path)\n",
    "print(ncfile) # print dataset infomation "
   ]
  },
  {
   "cell_type": "markdown",
   "metadata": {},
   "source": [
    "# Data Processing"
   ]
  },
  {
   "cell_type": "code",
   "execution_count": 3,
   "metadata": {},
   "outputs": [
    {
     "name": "stdout",
     "output_type": "stream",
     "text": [
      "(12, 72, 144)\n"
     ]
    }
   ],
   "source": [
    "# select variable\n",
    "precip = ncfile.data_vars['precip']\n",
    "print(precip.shape)  # [time, lat, lon]"
   ]
  },
  {
   "cell_type": "code",
   "execution_count": 4,
   "metadata": {},
   "outputs": [
    {
     "data": {
      "text/plain": [
       "<xarray.DataArray 'precip' ()>\n",
       "array(5905)"
      ]
     },
     "execution_count": 4,
     "metadata": {},
     "output_type": "execute_result"
    }
   ],
   "source": [
    "# check null values\n",
    "np.sum(np.isnan(precip))"
   ]
  },
  {
   "cell_type": "code",
   "execution_count": 5,
   "metadata": {},
   "outputs": [
    {
     "name": "stdout",
     "output_type": "stream",
     "text": [
      "<xarray.DataArray 'lon' (lon: 144)>\n",
      "array([  1.25,   3.75,   6.25,   8.75,  11.25,  13.75,  16.25,  18.75,  21.25,\n",
      "        23.75,  26.25,  28.75,  31.25,  33.75,  36.25,  38.75,  41.25,  43.75,\n",
      "        46.25,  48.75,  51.25,  53.75,  56.25,  58.75,  61.25,  63.75,  66.25,\n",
      "        68.75,  71.25,  73.75,  76.25,  78.75,  81.25,  83.75,  86.25,  88.75,\n",
      "        91.25,  93.75,  96.25,  98.75, 101.25, 103.75, 106.25, 108.75, 111.25,\n",
      "       113.75, 116.25, 118.75, 121.25, 123.75, 126.25, 128.75, 131.25, 133.75,\n",
      "       136.25, 138.75, 141.25, 143.75, 146.25, 148.75, 151.25, 153.75, 156.25,\n",
      "       158.75, 161.25, 163.75, 166.25, 168.75, 171.25, 173.75, 176.25, 178.75,\n",
      "       181.25, 183.75, 186.25, 188.75, 191.25, 193.75, 196.25, 198.75, 201.25,\n",
      "       203.75, 206.25, 208.75, 211.25, 213.75, 216.25, 218.75, 221.25, 223.75,\n",
      "       226.25, 228.75, 231.25, 233.75, 236.25, 238.75, 241.25, 243.75, 246.25,\n",
      "       248.75, 251.25, 253.75, 256.25, 258.75, 261.25, 263.75, 266.25, 268.75,\n",
      "       271.25, 273.75, 276.25, 278.75, 281.25, 283.75, 286.25, 288.75, 291.25,\n",
      "       293.75, 296.25, 298.75, 301.25, 303.75, 306.25, 308.75, 311.25, 313.75,\n",
      "       316.25, 318.75, 321.25, 323.75, 326.25, 328.75, 331.25, 333.75, 336.25,\n",
      "       338.75, 341.25, 343.75, 346.25, 348.75, 351.25, 353.75, 356.25, 358.75],\n",
      "      dtype=float32)\n",
      "Coordinates:\n",
      "  * lon      (lon) float32 1.25 3.75 6.25 8.75 ... 351.25 353.75 356.25 358.75\n",
      "Attributes:\n",
      "    units:          degrees_east\n",
      "    long_name:      Longitude\n",
      "    actual_range:   [  1.25 358.75]\n",
      "    standard_name:  longitude\n",
      "    axis:           X\n"
     ]
    }
   ],
   "source": [
    "# set spatial domain\n",
    "# lon: -70 -> 290\n",
    "# 'nearest' to select closest grid\n",
    "# for more details for indexing : http://xarray.pydata.org/en/stable/indexing.html\n",
    "print(precip.lon)\n",
    "precip_amazon = precip.sel(lon=290, lat=-5, method='nearest')"
   ]
  },
  {
   "cell_type": "markdown",
   "metadata": {},
   "source": [
    "# Visualizatoin"
   ]
  },
  {
   "cell_type": "code",
   "execution_count": 10,
   "metadata": {},
   "outputs": [
    {
     "data": {
      "image/png": "[encoded data removed]",
      "text/plain": [
       "<Figure size 864x360 with 1 Axes>"
      ]
     },
     "metadata": {
      "needs_background": "light"
     },
     "output_type": "display_data"
    }
   ],
   "source": [
    "# # of figure and size\n",
    "fig, ax = plt.subplots(nrows=1, ncols=1, figsize=(12,5))\n",
    "\n",
    "# There are many other techniques to set xaxis, but here let's take a simple way\n",
    "month = ['Jan', 'Feb', 'Mar', 'Apr', 'May', 'Jun', 'Jul', 'Aug', 'Sep', 'Oct', 'Nov', 'Dec']\n",
    "ax.plot(month, precip_amazon, marker='o')\n",
    "\n",
    "plt.show()"
   ]
  },
  {
   "cell_type": "code",
   "execution_count": 15,
   "metadata": {},
   "outputs": [
    {
     "data": {
      "image/png": "[encoded data removed]",
      "text/plain": [
       "<Figure size 864x360 with 2 Axes>"
      ]
     },
     "metadata": {
      "needs_background": "light"
     },
     "output_type": "display_data"
    }
   ],
   "source": [
    "# # of figure and size\n",
    "fig, (ax1, ax2) = plt.subplots(nrows=1, ncols=2, figsize=(12,5))\n",
    "\n",
    "# There are many other techniques to set xaxis, but here let's take a simple way\n",
    "month = ['Jan', 'Feb', 'Mar', 'Apr', 'May', 'Jun', 'Jul', 'Aug', 'Sep', 'Oct', 'Nov', 'Dec']\n",
    "\n",
    "ax1.plot(month, precip_amazon, marker='o')\n",
    "ax2.bar(month, precip_amazon, width=0.7)\n",
    "\n",
    "plt.show()"
   ]
  },
  {
   "cell_type": "code",
   "execution_count": null,
   "metadata": {},
   "outputs": [],
   "source": []
  }
 ],
 "metadata": {
  "kernelspec": {
   "display_name": "Python [conda env:p3.6_cpu] *",
   "language": "python",
   "name": "conda-env-p3.6_cpu-py"
  },
  "language_info": {
   "codemirror_mode": {
    "name": "ipython",
    "version": 3
   },
   "file_extension": ".py",
   "mimetype": "text/x-python",
   "name": "python",
   "nbconvert_exporter": "python",
   "pygments_lexer": "ipython3",
   "version": "3.6.8"
  }
 },
 "nbformat": 4,
 "nbformat_minor": 2
}
